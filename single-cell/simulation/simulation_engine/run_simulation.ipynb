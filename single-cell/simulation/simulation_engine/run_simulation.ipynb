{
 "cells": [
  {
   "cell_type": "markdown",
   "id": "1de3e2b6-e712-4568-9718-a40b0f25dc07",
   "metadata": {},
   "source": [
    "An example simulation can be run using the R scripts in this directory. These generate the required input from an inference muData object and create a simulated Perturb-seq experiment with injected effect sizes stored in an output muData object."
   ]
  },
  {
   "cell_type": "markdown",
   "id": "fa2650c7-a848-4409-a07a-dc440cc4dbd8",
   "metadata": {},
   "source": [
    "First we need to create the simulation input muData object. For this, we start with an inference muData object containing gene expression data and guide assignments. We add the perturbation effects for the target-gene pairs we want to simulate in the \"pairs_to_test\" table:"
   ]
  },
  {
   "cell_type": "code",
   "execution_count": 2,
   "id": "ede0c366-bfba-4914-a08b-d434d09285ce",
   "metadata": {},
   "outputs": [
    {
     "name": "stderr",
     "output_type": "stream",
     "text": [
      "Loading required package: Matrix\n",
      "\n",
      "Warning message:\n",
      "“package ‘Matrix’ was built under R version 4.3.2”\n",
      "Loading required package: S4Vectors\n",
      "\n",
      "Warning message:\n",
      "“package ‘S4Vectors’ was built under R version 4.3.2”\n",
      "Loading required package: stats4\n",
      "\n",
      "Loading required package: BiocGenerics\n",
      "\n",
      "Warning message:\n",
      "“package ‘BiocGenerics’ was built under R version 4.3.2”\n",
      "\n",
      "Attaching package: ‘BiocGenerics’\n",
      "\n",
      "\n",
      "The following objects are masked from ‘package:stats’:\n",
      "\n",
      "    IQR, mad, sd, var, xtabs\n",
      "\n",
      "\n",
      "The following objects are masked from ‘package:base’:\n",
      "\n",
      "    anyDuplicated, aperm, append, as.data.frame, basename, cbind,\n",
      "    colnames, dirname, do.call, duplicated, eval, evalq, Filter, Find,\n",
      "    get, grep, grepl, intersect, is.unsorted, lapply, Map, mapply,\n",
      "    match, mget, order, paste, pmax, pmax.int, pmin, pmin.int,\n",
      "    Position, rank, rbind, Reduce, rownames, sapply, setdiff, sort,\n",
      "    table, tapply, union, unique, unsplit, which.max, which.min\n",
      "\n",
      "\n",
      "\n",
      "Attaching package: ‘S4Vectors’\n",
      "\n",
      "\n",
      "The following objects are masked from ‘package:Matrix’:\n",
      "\n",
      "    expand, unname\n",
      "\n",
      "\n",
      "The following object is masked from ‘package:utils’:\n",
      "\n",
      "    findMatches\n",
      "\n",
      "\n",
      "The following objects are masked from ‘package:base’:\n",
      "\n",
      "    expand.grid, I, unname\n",
      "\n",
      "\n",
      "Loading required package: rhdf5\n",
      "\n",
      "Warning message:\n",
      "“package ‘rhdf5’ was built under R version 4.3.2”\n",
      "Warning message:\n",
      "“package ‘dplyr’ was built under R version 4.3.2”\n",
      "\n",
      "Attaching package: ‘dplyr’\n",
      "\n",
      "\n",
      "The following objects are masked from ‘package:S4Vectors’:\n",
      "\n",
      "    first, intersect, rename, setdiff, setequal, union\n",
      "\n",
      "\n",
      "The following objects are masked from ‘package:BiocGenerics’:\n",
      "\n",
      "    combine, intersect, setdiff, union\n",
      "\n",
      "\n",
      "The following objects are masked from ‘package:stats’:\n",
      "\n",
      "    filter, lag\n",
      "\n",
      "\n",
      "The following objects are masked from ‘package:base’:\n",
      "\n",
      "    intersect, setdiff, setequal, union\n",
      "\n",
      "\n",
      "Warning message:\n",
      "“package ‘tidyr’ was built under R version 4.3.2”\n",
      "\n",
      "Attaching package: ‘tidyr’\n",
      "\n",
      "\n",
      "The following object is masked from ‘package:S4Vectors’:\n",
      "\n",
      "    expand\n",
      "\n",
      "\n",
      "The following objects are masked from ‘package:Matrix’:\n",
      "\n",
      "    expand, pack, unpack\n",
      "\n",
      "\n",
      "Warning message:\n",
      "“sampleMap[['assay']] coerced with as.factor()”\n"
     ]
    }
   ],
   "source": [
    "source(\"1_create_sim_mudata.R\")"
   ]
  },
  {
   "cell_type": "markdown",
   "id": "ae0231a4-b0a4-4174-8156-a41da4b99341",
   "metadata": {},
   "source": [
    "Next, we fit negative binomial distributions to the expression distribution of each gene. This is done using DESeq2's \"estimateDispersions\" functions. These distributions will alter be used to simulate scRNA-seq counts for genes in perturbed and unperturbed cells."
   ]
  },
  {
   "cell_type": "code",
   "execution_count": 3,
   "id": "a97537b2-3038-4cc8-9609-4eb5a5580cc7",
   "metadata": {},
   "outputs": [
    {
     "name": "stderr",
     "output_type": "stream",
     "text": [
      "Warning message:\n",
      "“package ‘SummarizedExperiment’ was built under R version 4.3.2”\n",
      "Loading required package: MatrixGenerics\n",
      "\n",
      "Warning message:\n",
      "“package ‘MatrixGenerics’ was built under R version 4.3.2”\n",
      "Loading required package: matrixStats\n",
      "\n",
      "Warning message:\n",
      "“package ‘matrixStats’ was built under R version 4.3.2”\n",
      "\n",
      "Attaching package: ‘matrixStats’\n",
      "\n",
      "\n",
      "The following object is masked from ‘package:dplyr’:\n",
      "\n",
      "    count\n",
      "\n",
      "\n",
      "\n",
      "Attaching package: ‘MatrixGenerics’\n",
      "\n",
      "\n",
      "The following objects are masked from ‘package:matrixStats’:\n",
      "\n",
      "    colAlls, colAnyNAs, colAnys, colAvgsPerRowSet, colCollapse,\n",
      "    colCounts, colCummaxs, colCummins, colCumprods, colCumsums,\n",
      "    colDiffs, colIQRDiffs, colIQRs, colLogSumExps, colMadDiffs,\n",
      "    colMads, colMaxs, colMeans2, colMedians, colMins, colOrderStats,\n",
      "    colProds, colQuantiles, colRanges, colRanks, colSdDiffs, colSds,\n",
      "    colSums2, colTabulates, colVarDiffs, colVars, colWeightedMads,\n",
      "    colWeightedMeans, colWeightedMedians, colWeightedSds,\n",
      "    colWeightedVars, rowAlls, rowAnyNAs, rowAnys, rowAvgsPerColSet,\n",
      "    rowCollapse, rowCounts, rowCummaxs, rowCummins, rowCumprods,\n",
      "    rowCumsums, rowDiffs, rowIQRDiffs, rowIQRs, rowLogSumExps,\n",
      "    rowMadDiffs, rowMads, rowMaxs, rowMeans2, rowMedians, rowMins,\n",
      "    rowOrderStats, rowProds, rowQuantiles, rowRanges, rowRanks,\n",
      "    rowSdDiffs, rowSds, rowSums2, rowTabulates, rowVarDiffs, rowVars,\n",
      "    rowWeightedMads, rowWeightedMeans, rowWeightedMedians,\n",
      "    rowWeightedSds, rowWeightedVars\n",
      "\n",
      "\n",
      "Loading required package: GenomicRanges\n",
      "\n",
      "Warning message:\n",
      "“package ‘GenomicRanges’ was built under R version 4.3.2”\n",
      "Loading required package: IRanges\n",
      "\n",
      "Warning message:\n",
      "“package ‘IRanges’ was built under R version 4.3.2”\n",
      "\n",
      "Attaching package: ‘IRanges’\n",
      "\n",
      "\n",
      "The following objects are masked from ‘package:dplyr’:\n",
      "\n",
      "    collapse, desc, slice\n",
      "\n",
      "\n",
      "Loading required package: GenomeInfoDb\n",
      "\n",
      "Loading required package: Biobase\n",
      "\n",
      "Warning message:\n",
      "“package ‘Biobase’ was built under R version 4.3.2”\n",
      "Welcome to Bioconductor\n",
      "\n",
      "    Vignettes contain introductory material; view with\n",
      "    'browseVignettes()'. To cite Bioconductor, see\n",
      "    'citation(\"Biobase\")', and for packages 'citation(\"pkgname\")'.\n",
      "\n",
      "\n",
      "\n",
      "Attaching package: ‘Biobase’\n",
      "\n",
      "\n",
      "The following object is masked from ‘package:MatrixGenerics’:\n",
      "\n",
      "    rowMedians\n",
      "\n",
      "\n",
      "The following objects are masked from ‘package:matrixStats’:\n",
      "\n",
      "    anyMissing, rowMedians\n",
      "\n",
      "\n",
      "Warning message:\n",
      "“sampleMap[['assay']] coerced with as.factor()”\n",
      "converting counts to integer mode\n",
      "\n",
      "gene-wise dispersion estimates\n",
      "\n",
      "mean-dispersion relationship\n",
      "\n",
      "-- note: fitType='parametric', but the dispersion trend was not well captured by the\n",
      "   function: y = a/x + b, and a local regression fit was automatically substituted.\n",
      "   specify fitType='local' or 'mean' to avoid this message next time.\n",
      "\n",
      "final dispersion estimates\n",
      "\n",
      "Warning message in write_elem(grp, name, data):\n",
      "“Cannot write object of class function skipping...”\n"
     ]
    }
   ],
   "source": [
    "source(\"2_fit_negative_binomial.R\")"
   ]
  },
  {
   "cell_type": "markdown",
   "id": "224f53c3-c89f-4ff0-8025-3a3bc1cc526f",
   "metadata": {},
   "source": [
    "Now we can run the actual simulation. This simulates scRNA-seq counts for all genes and cells in the muData object and injects the effect sizes specified in \"pairs_to_test\" for specified genes in cells that have a guide RNA targeting the specified perturbation target. In addition, this can add guide-to-guide variability to simulate efficiency differences of individual guides. The degree of guide variability can be controlled by the \"guide_var\" argument of the \"simulate_pert_data\" function (guide_var = 0: no guide efficieny variability)."
   ]
  },
  {
   "cell_type": "code",
   "execution_count": 4,
   "id": "ec95dd69-2c5d-4c6d-ab54-3a4d255e0c3e",
   "metadata": {},
   "outputs": [
    {
     "name": "stderr",
     "output_type": "stream",
     "text": [
      "Warning message:\n",
      "“sampleMap[['assay']] coerced with as.factor()”\n"
     ]
    }
   ],
   "source": [
    "source(\"3_simulate_count_data.R\")"
   ]
  },
  {
   "cell_type": "markdown",
   "id": "9411d54a-6b64-44da-941d-6f7691b11310",
   "metadata": {},
   "source": [
    "We can now load the muData object with the simulated data into R. The count matrix in \"gene\" now contains the simulated scRNA-seq counts:"
   ]
  },
  {
   "cell_type": "code",
   "execution_count": 9,
   "id": "1e8c20d5-6278-426e-a044-22b51a929ae3",
   "metadata": {},
   "outputs": [
    {
     "name": "stderr",
     "output_type": "stream",
     "text": [
      "Warning message:\n",
      "“sampleMap[['assay']] coerced with as.factor()”\n",
      "  [[ suppressing 10 column names ‘GCTTGAATCGAATGCT-1_1B_1_SI-GA-F2’, ‘AGCTTGATCGAGAGCA-1_1A_2_SI-GA-E3’, ‘CCCAATCTCCTCAATT-1_1B_1_SI-GA-F2’ ... ]]\n",
      "\n"
     ]
    },
    {
     "data": {
      "text/plain": [
       "10 x 10 sparse Matrix of class \"dgCMatrix\"\n",
       "                                   \n",
       "ENSG00000008853 . . . . . . . . . .\n",
       "ENSG00000104679 2 . 1 . . . . . . 2\n",
       "ENSG00000104689 . 2 . 1 . 1 . . . .\n",
       "ENSG00000120889 . . 1 2 . . . . . .\n",
       "ENSG00000120896 . . . . . . . . . .\n",
       "ENSG00000120913 . . . 1 . . . . 3 .\n",
       "ENSG00000147439 2 1 . . . . . . 1 .\n",
       "ENSG00000147454 7 1 9 1 . 4 8 9 4 4\n",
       "ENSG00000147457 1 . . . . . . . . 1\n",
       "ENSG00000158941 . . . 1 . . . . 1 ."
      ]
     },
     "metadata": {},
     "output_type": "display_data"
    }
   ],
   "source": [
    "library(MuData)\n",
    "mu <- readH5MU(\"output//gasperini_simulation_output.h5mu\")\n",
    "assay(mu@ExperimentList$gene)[1:10, 1:10]  # top left corner of simulated counts matrix"
   ]
  },
  {
   "cell_type": "markdown",
   "id": "2b10cbbf-7fd0-4f64-9ebb-bd0b27fce4c3",
   "metadata": {},
   "source": [
    "The specified effect sizes for each perturbed target-gene pair are in \"pairs_to_test\""
   ]
  },
  {
   "cell_type": "code",
   "execution_count": 11,
   "id": "8faf9835-9e3e-4713-8938-06e0eee326c3",
   "metadata": {},
   "outputs": [
    {
     "data": {
      "text/html": [
       "<table class=\"dataframe\">\n",
       "<caption>A data.frame: 2 × 3</caption>\n",
       "<thead>\n",
       "\t<tr><th scope=col>effect_size</th><th scope=col>gene_id</th><th scope=col>intended_target_name</th></tr>\n",
       "\t<tr><th scope=col>&lt;dbl&gt;</th><th scope=col>&lt;chr&gt;</th><th scope=col>&lt;chr&gt;</th></tr>\n",
       "</thead>\n",
       "<tbody>\n",
       "\t<tr><td>0.5</td><td>ENSG00000136856</td><td>candidate_enh_3</td></tr>\n",
       "\t<tr><td>0.5</td><td>ENSG00000136925</td><td>candidate_enh_2</td></tr>\n",
       "</tbody>\n",
       "</table>\n"
      ],
      "text/latex": [
       "A data.frame: 2 × 3\n",
       "\\begin{tabular}{lll}\n",
       " effect\\_size & gene\\_id & intended\\_target\\_name\\\\\n",
       " <dbl> & <chr> & <chr>\\\\\n",
       "\\hline\n",
       "\t 0.5 & ENSG00000136856 & candidate\\_enh\\_3\\\\\n",
       "\t 0.5 & ENSG00000136925 & candidate\\_enh\\_2\\\\\n",
       "\\end{tabular}\n"
      ],
      "text/markdown": [
       "\n",
       "A data.frame: 2 × 3\n",
       "\n",
       "| effect_size &lt;dbl&gt; | gene_id &lt;chr&gt; | intended_target_name &lt;chr&gt; |\n",
       "|---|---|---|\n",
       "| 0.5 | ENSG00000136856 | candidate_enh_3 |\n",
       "| 0.5 | ENSG00000136925 | candidate_enh_2 |\n",
       "\n"
      ],
      "text/plain": [
       "  effect_size gene_id         intended_target_name\n",
       "1 0.5         ENSG00000136856 candidate_enh_3     \n",
       "2 0.5         ENSG00000136925 candidate_enh_2     "
      ]
     },
     "metadata": {},
     "output_type": "display_data"
    }
   ],
   "source": [
    "data.frame(mu@metadata$pairs_to_test)"
   ]
  },
  {
   "cell_type": "markdown",
   "id": "c57da1ba-d76e-4c2b-959b-87e5bdab6f89",
   "metadata": {},
   "source": [
    "Mean and dispersion estimates for each gene that were inferred using DESeq2 can be found in the gene-level metadata of the gene expression data:"
   ]
  },
  {
   "cell_type": "code",
   "execution_count": 14,
   "id": "8f9c86a1-8d23-494b-9ba7-2d22e34b303c",
   "metadata": {},
   "outputs": [
    {
     "data": {
      "text/plain": [
       "DataFrame with 3 rows and 7 columns\n",
       "                     symbol    gene_chr gene_start  gene_end      mean\n",
       "                <character> <character>  <numeric> <numeric> <numeric>\n",
       "ENSG00000008853     RHOBTB2        chr8   22844930  22844931 0.0154662\n",
       "ENSG00000104679      R3HCC1        chr8   23145421  23145422 0.5180354\n",
       "ENSG00000104689   TNFRSF10A        chr8   23082573  23082574 0.1094613\n",
       "                dispersion disp_outlier_deseq2\n",
       "                 <numeric>           <logical>\n",
       "ENSG00000008853 207.330548               FALSE\n",
       "ENSG00000104679   0.245677               FALSE\n",
       "ENSG00000104689  11.067130               FALSE"
      ]
     },
     "metadata": {},
     "output_type": "display_data"
    }
   ],
   "source": [
    "head(rowData(mu@ExperimentList$gene), 3)"
   ]
  },
  {
   "cell_type": "markdown",
   "id": "bffdc995-2c0d-441c-82d7-feac64e7bd74",
   "metadata": {},
   "source": [
    "In the future, we will add the simulated guide efficiencies in the guide-level metadata of the guide data:"
   ]
  },
  {
   "cell_type": "code",
   "execution_count": 12,
   "id": "ede0ee78-beba-4670-8f41-ff5ec18398b4",
   "metadata": {},
   "outputs": [
    {
     "data": {
      "text/plain": [
       "DataFrame with 6 rows and 5 columns\n",
       "                       targeting intended_target_name intended_target_chr\n",
       "                     <character>          <character>         <character>\n",
       "ATGTAGAAGGAGACACCGGG        TRUE      ENSG00000012660                chr6\n",
       "GCGCAGAGGCGGATGTAGAG        TRUE      ENSG00000012660                chr6\n",
       "AGAGCGTCGGGATATCGGGG        TRUE      ENSG00000072274                chr3\n",
       "CTCAGAGCGTCGGGATATCG        TRUE      ENSG00000072274                chr3\n",
       "GCCCTGCTACCCACTTACAG        TRUE      ENSG00000113552                chr5\n",
       "GGGAGGCGTCCGTGTAAGTG        TRUE      ENSG00000113552                chr5\n",
       "                     intended_target_start intended_target_end\n",
       "                                 <numeric>           <numeric>\n",
       "ATGTAGAAGGAGACACCGGG              53213723            53213738\n",
       "GCGCAGAGGCGGATGTAGAG              53213738            53213754\n",
       "AGAGCGTCGGGATATCGGGG             195808960           195808975\n",
       "CTCAGAGCGTCGGGATATCG             195808975           195808991\n",
       "GCCCTGCTACCCACTTACAG             141392358           141392373\n",
       "GGGAGGCGTCCGTGTAAGTG             141392373           141392389"
      ]
     },
     "metadata": {},
     "output_type": "display_data"
    }
   ],
   "source": [
    "head(rowData(mu@ExperimentList$guide))"
   ]
  },
  {
   "cell_type": "markdown",
   "id": "dcc71d6b-4ea0-42d0-9096-6eb57a51d52b",
   "metadata": {},
   "source": [
    "For future development, we will also implement options to vary the number of cells per perturbation and baseline gene expression levels."
   ]
  }
 ],
 "metadata": {
  "kernelspec": {
   "display_name": "R",
   "language": "R",
   "name": "ir"
  },
  "language_info": {
   "codemirror_mode": "r",
   "file_extension": ".r",
   "mimetype": "text/x-r-source",
   "name": "R",
   "pygments_lexer": "r",
   "version": "4.3.1"
  }
 },
 "nbformat": 4,
 "nbformat_minor": 5
}
