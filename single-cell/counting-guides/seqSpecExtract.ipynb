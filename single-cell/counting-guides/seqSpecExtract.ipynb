{
 "cells": [
  {
   "cell_type": "markdown",
   "metadata": {},
   "source": [
    "## Extracting Barcodes Kallisto and StarSolo\n",
    "seqspec index -t starsolo -m crispr -r R1,R2,I1 TF_CRISPR_i_a.scRNAseq_screen.seqspec.yaml\n"
   ]
  },
  {
   "cell_type": "code",
   "execution_count": null,
   "metadata": {},
   "outputs": [],
   "source": [
    "-t <tool_format> (kb, starsolo)\n",
    "-r <region_ids> names of fastqs/region ids in semqspec (names that appear in seqspec print)\n",
    "-m <modality> rna/crispr/atac\n"
   ]
  },
  {
   "cell_type": "markdown",
   "metadata": {},
   "source": [
    "\n",
    "# outputs:\n",
    "### starsolo:"
   ]
  },
  {
   "cell_type": "code",
   "execution_count": null,
   "metadata": {},
   "outputs": [],
   "source": [
    "seqspec index -t starsolo -m crispr -r R1,R2,I1 TF_CRISPR_i_a.scRNAseq_screen.seqspec.yaml\n",
    "--soloType CB_UMI_Simple --soloCBstart 34 --soloCBlen 49 --soloUMIstart 50 --soloUMIlen 10\n"
   ]
  },
  {
   "cell_type": "markdown",
   "metadata": {},
   "source": [
    "### kb:"
   ]
  },
  {
   "cell_type": "code",
   "execution_count": null,
   "metadata": {},
   "outputs": [],
   "source": [
    "\n",
    "seqspec index -t kb -m crispr -r R1,R2,I1 TF_CRISPR_i_a.scRNAseq_screen.seqspec.yaml\n",
    "# 0,33,49:0,49,59:"
   ]
  }
 ],
 "metadata": {
  "language_info": {
   "name": "python"
  }
 },
 "nbformat": 4,
 "nbformat_minor": 2
}
