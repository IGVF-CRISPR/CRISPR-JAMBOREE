{
 "cells": [
  {
   "cell_type": "markdown",
   "id": "b56f55b1-04d3-4030-bad4-f6c4eb24af36",
   "metadata": {},
   "source": [
    "# Creating a guide starSolo Ref\n",
    "    #Looks like the genome is needed \n",
    "    # This will make it imposible to align to guide sequences not present in the genome\n",
    "    # It will try to map guides against other genomic regions creating a mix between real guides and genomic regions\n",
    "    "
   ]
  },
  {
   "cell_type": "markdown",
   "id": "8b5b4ce2-678d-4dd8-9d1d-4bb51dbebd68",
   "metadata": {},
   "source": [
    "# converting the metadata in a guide ID"
   ]
  },
  {
   "cell_type": "code",
   "execution_count": 145,
   "id": "65e540e2-a3b9-4edd-a39c-acd8770a55f3",
   "metadata": {},
   "outputs": [],
   "source": [
    "!mkdir /home/jovyan/data/"
   ]
  },
  {
   "cell_type": "code",
   "execution_count": 146,
   "id": "963c6889-a506-42e7-b3af-c007b8ed19cb",
   "metadata": {},
   "outputs": [],
   "source": [
    "import numpy as np\n",
    "import pandas as pd\n",
    "df = pd.read_csv(\"/mnt/shared/counting_guides/metadata/TF_CRISPR_i_a.scRNAseq_screen.igvf_metadata.txt\", sep = '\\t')\n",
    "\n",
    "def get_index_str(c):\n",
    "    if c.targeting:\n",
    "        return f\"{c['guide_chr']}_{int(c['guide_start'])}_{int(c['guide_end'])}_\"\\\n",
    "        f\"{c['strand']}_{c['protospacer']}_{c['intended_target_name']}\"\n",
    "    else:\n",
    "        return f\"{c['type']}_{c['protospacer']}\"\n",
    "        \n",
    "df.index = [get_index_str(f[1]) for f in df.iterrows()]\n",
    "\n",
    "\n",
    "with open(\"/home/jovyan/data/TF_CRISPR_i_a.scRNAseq_screen.protospaces.fa\",\"w\") as ofile:\n",
    "    for l in zip(df.index, df.protospacer):\n",
    "        ofile.write(\">\" + l[0] + \"\\n\")\n",
    "        ofile.write(l[1] + \"\\n\")"
   ]
  },
  {
   "cell_type": "markdown",
   "id": "ea24d7c1-0cb3-4850-a496-f0d6f8f57665",
   "metadata": {},
   "source": [
    "# Creating a ref Lets use a guides as a chromossome"
   ]
  },
  {
   "cell_type": "code",
   "execution_count": 115,
   "id": "a52059b9-02a4-4ee8-82e2-222b0dc4b6a1",
   "metadata": {},
   "outputs": [],
   "source": [
    "import pandas as pd\n",
    "df_metadata_raw = pd.read_csv('/mnt/shared/counting_guides/metadata/TF_CRISPR_i_a.scRNAseq_screen.igvf_metadata.txt', sep='\\t')\n",
    "\n",
    "def revcomp(s):\n",
    "    rev = dict(zip(\"ACTG\", \"TGAC\"))\n",
    "    return \"\".join([rev[c]for c in s[::-1]])\n",
    "\n",
    "\n",
    "df_metadata_raw['protospacer'] =  'NNN'+ df_metadata_raw['protospacer'].apply(revcomp)\n"
   ]
  },
  {
   "cell_type": "code",
   "execution_count": 143,
   "id": "2dae8e33-7a28-410b-9aa4-790816d34bfe",
   "metadata": {},
   "outputs": [],
   "source": [
    "!cp '/mnt/shared/counting_guides/metadata/TF_CRISPR_i_a.scRNAseq_screen.igvf_metadata.txt' ."
   ]
  },
  {
   "cell_type": "code",
   "execution_count": 116,
   "id": "605282b1-5feb-42b7-8c4a-6592f4d2e9d5",
   "metadata": {},
   "outputs": [],
   "source": [
    "# df_metadata_raw.head()\n",
    "# gff3_pd = pd.DataFrame()\n",
    "# gff3_pd['seqid'] =  (\"chr_peseudo_chr_\" + df_metadata_raw['protospacer']).tolist()\n",
    "# gff3_pd['source'] = '.'\n",
    "# gff3_pd['type'] = 'mRNA'\n",
    "# gff3_pd['star'] = 0\n",
    "\n",
    "\n",
    "# gff3_pd['end'] = df_metadata_raw['protospacer'].apply(len).tolist()\n",
    "# gff3_pd['score'] = 100\n",
    "# gff3_pd['strand'] = '+'\n",
    "# gff3_pd['phase'] = '.'\n",
    "# gff3_pd['attribute'] = df_metadata_raw.apply(lambda x : f'ID={x[\"protospacer\"]};Name={x[\"protospacer\"]}', axis=1).tolist()\n",
    "# gff3_pd.to_csv('guide_ref.gff', header=None, index=None, sep='\\t')"
   ]
  },
  {
   "cell_type": "code",
   "execution_count": 117,
   "id": "5aff1811-5ba1-40a8-afd5-c2078ae88103",
   "metadata": {},
   "outputs": [],
   "source": [
    "df_metadata_raw.head()\n",
    "bed_pd = pd.DataFrame()\n",
    "bed_pd['seqid'] =  (\"chr_peseudo_chr_\" + df_metadata_raw['protospacer']).tolist()\n",
    "bed_pd['star'] = 0\n",
    "bed_pd['end'] = df_metadata_raw['protospacer'].apply(len) \n",
    "bed_pd['source'] =  df_metadata_raw['protospacer']\n",
    "bed_pd['type'] = df_metadata_raw['protospacer']\n",
    "bed_pd['strand'] = '+'\n",
    "bed_pd['thickStart'] = 1\n",
    "bed_pd['thickEnd'] = bed_pd['end'] \n",
    "bed_pd['color'] = \"0,0,255\"\n",
    "bed_pd['blockCount'] = 1\n",
    "bed_pd['blockSizes'] = bed_pd['end'] \n",
    "bed_pd['blockStarts'] = 0\n",
    "bed_pd.to_csv('test.bed', header=None, index=None, sep='\\t')\n"
   ]
  },
  {
   "cell_type": "code",
   "execution_count": null,
   "id": "922e6938-2284-471c-872a-ba4ff15364f8",
   "metadata": {},
   "outputs": [],
   "source": [
    "\n"
   ]
  },
  {
   "cell_type": "code",
   "execution_count": 118,
   "id": "ade47539-5f7e-4749-8c65-5aa64c650659",
   "metadata": {},
   "outputs": [],
   "source": [
    "# > cat isoforms.txt\n",
    "\n",
    "# ENSG00000198888 ENST00000361390\n",
    "# ENSG00000198763 ENST00000361453\n",
    "# ENSG00000198804 ENST00000361624\n",
    "# ENSG00000188868 ENST00000595977"
   ]
  },
  {
   "cell_type": "code",
   "execution_count": 119,
   "id": "40a1f851-3099-4861-811b-cafdf47d28be",
   "metadata": {},
   "outputs": [],
   "source": [
    "# name - Label to be displayed under the feature, if turned on in \"Configure this page\".\n",
    "# score - A score between 0 and 1000. See track lines, below, for ways to configure the display style of scored data.\n",
    "# strand - defined as + (forward) or - (reverse).\n",
    "# thickStart - coordinate at which to start drawing the feature as a solid rectangle\n",
    "# thickEnd - coordinate at which to stop drawing the feature as a solid rectangle\n",
    "# itemRgb - an RGB colour value (e.g. 0,0,255). Only used if there is a track line with the value of itemRgb set to \"on\" (case-insensitive).\n",
    "# blockCount - the number of sub-elements (e.g. exons) within the feature\n",
    "# blockSizes - the size of these sub-elements\n",
    "# blockStarts - the start coordinate of each sub-element"
   ]
  },
  {
   "cell_type": "code",
   "execution_count": 122,
   "id": "0ee5351b-6cda-400f-9a82-29669bb5346d",
   "metadata": {},
   "outputs": [],
   "source": [
    "bed_pd[['seqid', 'source']].to_csv('isoforms.txt', header=None, index=None, sep='\\t')\n",
    "\n",
    "\n"
   ]
  },
  {
   "cell_type": "code",
   "execution_count": 123,
   "id": "f377f893-7a6a-410f-a2e5-11a7fa8c88ee",
   "metadata": {},
   "outputs": [
    {
     "name": "stdout",
     "output_type": "stream",
     "text": [
      "\u001b[1;96m\n",
      "##### BED2GTF #####\u001b[0m\n",
      "A fast BED-to-GTF converter written in Rust.\n",
      "Repository: https://github.com/alejandrogzi/bed2gtf\n",
      "Feel free to contact the developer if any issue/bug is found.\n",
      "Version: 1.9.1\n",
      "\n",
      "2024-02-23T20:44:43.869Z \u001b[36mINFO \u001b[0m [bed2gtf] Using 7 threads\n",
      "2024-02-23T20:44:43.872Z \u001b[36mINFO \u001b[0m [bed2gtf] Memory usage: 0.2020626 MB\n",
      "2024-02-23T20:44:43.872Z \u001b[36mINFO \u001b[0m [bed2gtf] Elapsed: 0.0026 secs\n"
     ]
    }
   ],
   "source": [
    "!bed2gtf --bed test.bed --output test.gtf --isoforms 'isoforms.txt'"
   ]
  },
  {
   "cell_type": "code",
   "execution_count": 124,
   "id": "31205cd6-747a-436f-9daa-d4d135279b7f",
   "metadata": {},
   "outputs": [],
   "source": [
    "# ##gff-version 3\n",
    "# ctg123 . mRNA            1300  9000  .  +  .  ID=mrna0001;Name=sonichedgehog\n",
    "# seqid - name of the chromosome or scaffold; chromosome names can be given with or without the 'chr' prefix. Important note: the seq ID must be one used within Ensembl, i.e. a standard chromosome name or an Ensembl identifier such as a scaffold ID, without any additional content such as species or assembly. See the example GFF output below.\n",
    "# source - name of the program that generated this feature, or the data source (database or project name)\n",
    "# type - type of feature. Must be a term or accession from the SOFA sequence ontology\n",
    "# start - Start position of the feature, with sequence numbering starting at 1.\n",
    "# end - End position of the feature, with sequence numbering starting at 1.\n",
    "# score - A floating point value.\n",
    "# strand - defined as + (forward) or - (reverse).\n",
    "# phase - One of '0', '1' or '2'. '0' indicates that the first base of the feature is the first base of a codon, '1' that the second base is the first base of a codon, and so on..\n",
    "# attributes - A semicolon-separated list of tag-value pairs, providing additional information about each feature. Some of these tags are predefined, e.g. ID, Name, Alias, Parent - see the GFF documentation for more details.\n"
   ]
  },
  {
   "cell_type": "code",
   "execution_count": 125,
   "id": "22223bdb-5f88-4889-bf08-5e5c7969cde9",
   "metadata": {},
   "outputs": [],
   "source": [
    "with open('pseudo_genome.fa', 'w') as save_genome:\n",
    "    \n",
    "    save_genome.write('\\n'.join(df_metadata_raw.apply(lambda x : f'>chr_peseudo_chr_{x[\"protospacer\"]}\\n{x[\"protospacer\"]}' ,axis=1 ).tolist()))"
   ]
  },
  {
   "cell_type": "code",
   "execution_count": 126,
   "id": "ef76c902-d547-4df7-9b20-0af474c21fa5",
   "metadata": {},
   "outputs": [
    {
     "name": "stdout",
     "output_type": "stream",
     "text": [
      "Usage: STAR  [options]... --genomeDir /path/to/genome/index/   --readFilesIn R1.fq R2.fq\n",
      "Spliced Transcripts Alignment to a Reference (c) Alexander Dobin, 2009-2022\n",
      "\n",
      "STAR version=2.7.11b\n",
      "STAR compilation time,server,dir=2024-01-29T15:15:38+0000 :/opt/conda/conda-bld/star_1706541070242/work/source\n",
      "For more details see:\n",
      "<https://github.com/alexdobin/STAR>\n",
      "<https://github.com/alexdobin/STAR/blob/master/doc/STARmanual.pdf>\n",
      "\n",
      "To list all parameters, run STAR --help\n"
     ]
    }
   ],
   "source": [
    "!STAR"
   ]
  },
  {
   "cell_type": "code",
   "execution_count": 127,
   "id": "d8a08ded-2ba0-42a3-b3e2-64b2642b24bf",
   "metadata": {},
   "outputs": [
    {
     "name": "stdout",
     "output_type": "stream",
     "text": [
      "mkdir: cannot create directory ‘new_ref’: File exists\n"
     ]
    }
   ],
   "source": [
    "!mkdir new_ref"
   ]
  },
  {
   "cell_type": "code",
   "execution_count": 128,
   "id": "4473dffe-fcca-4e67-a666-413d05194eda",
   "metadata": {},
   "outputs": [
    {
     "name": "stdout",
     "output_type": "stream",
     "text": [
      "\t/opt/conda/bin/STAR-avx2 --runThreadN 2 --runMode genomeGenerate --genomeDir new_ref --genomeFastaFiles pseudo_genome.fa --genomeSAindexNbases 3 --sjdbGTFfile test.gtf\n",
      "\tSTAR version: 2.7.11b   compiled: 2024-01-29T15:15:38+0000 :/opt/conda/conda-bld/star_1706541070242/work/source\n",
      "Feb 23 20:44:48 ..... started STAR run\n",
      "Feb 23 20:44:48 ... starting to generate Genome files\n",
      "Feb 23 20:44:48 ..... processing annotations GTF\n",
      "Feb 23 20:44:48 ... starting to sort Suffix Array. This may take a long time...\n",
      "Feb 23 20:44:48 ... sorting Suffix Array chunks and saving them to disk...\n",
      "Feb 23 20:44:48 ... loading chunks from disk, packing SA...\n",
      "Feb 23 20:44:48 ... finished generating suffix array\n",
      "Feb 23 20:44:48 ... generating Suffix Array index\n",
      "Feb 23 20:44:48 ... completed Suffix Array index\n",
      "Feb 23 20:44:48 ... writing Genome to disk ...\n",
      "Feb 23 20:44:48 ... writing Suffix Array to disk ...\n",
      "Feb 23 20:44:48 ... writing SAindex to disk\n",
      "Feb 23 20:44:48 ..... finished successfully\n"
     ]
    }
   ],
   "source": [
    "!STAR --runThreadN 2 --runMode genomeGenerate --genomeDir new_ref  --genomeFastaFiles pseudo_genome.fa --genomeSAindexNbases 3 --sjdbGTFfile test.gtf\n"
   ]
  },
  {
   "cell_type": "markdown",
   "id": "86c4070f-9630-409d-a131-f5104cccfe80",
   "metadata": {},
   "source": [
    "# Downsampling"
   ]
  },
  {
   "cell_type": "code",
   "execution_count": 129,
   "id": "8083a63b-42ee-4f49-8c2b-455ca7cd75c9",
   "metadata": {},
   "outputs": [
    {
     "name": "stdout",
     "output_type": "stream",
     "text": [
      "\n",
      "gzip: stdout: Broken pipe\n",
      "\n",
      "gzip: stdout: Broken pipe\n"
     ]
    }
   ],
   "source": [
    "\n",
    "!zcat  /mnt/shared/counting_guides/fastq/gRNA_CRISPRi_D3_S9_L001_R1_001.fastq.gz  |  head -n 400000 >test_R1_001.fastq\n",
    "!zcat /mnt/shared/counting_guides/fastq/gRNA_CRISPRi_D3_S9_L001_R2_001.fastq.gz | head -n 400000 > test_R2_001.fastq\n"
   ]
  },
  {
   "cell_type": "code",
   "execution_count": 141,
   "id": "3ff0413a-e502-4e3e-ba44-ee512183453c",
   "metadata": {},
   "outputs": [
    {
     "name": "stdout",
     "output_type": "stream",
     "text": [
      "\t/opt/conda/bin/STAR-avx2 --soloType CB_UMI_Simple --readFilesIn test_R1_001.fastq test_R2_001.fastq --genomeDir /home/jovyan/new_ref --soloCBwhitelist /mnt/shared/counting_guides/metadata/737K-august-2016.txt --soloCBstart 1 --soloCBlen 16 --soloUMIstart 17 --soloUMIlen 10 --soloBarcodeMate 1 --soloCBmatchWLtype 1MM_multi_Nbase_pseudocounts --soloUMIfiltering MultiGeneUMI_CR --soloUMIdedup 1MM_CR --outFilterScoreMin 30 --outSAMtype BAM SortedByCoordinate --outSAMattributes CR UR CY UY CB UB --soloBarcodeReadLength 0 --clip5pNbases 39 0 --outFilterScoreMinOverLread 0 --outFilterMatchNminOverLread 0\n",
      "\tSTAR version: 2.7.11b   compiled: 2024-01-29T15:15:38+0000 :/opt/conda/conda-bld/star_1706541070242/work/source\n",
      "Feb 23 20:58:38 ..... started STAR run\n",
      "Feb 23 20:58:38 ..... loading genome\n",
      "Feb 23 20:58:38 ..... started mapping\n",
      "Feb 23 20:58:49 ..... finished mapping\n",
      "Feb 23 20:58:49 ..... started Solo counting\n",
      "Feb 23 20:58:50 ..... finished Solo counting\n",
      "Feb 23 20:58:50 ..... started sorting BAM\n",
      "Feb 23 20:58:50 ..... finished successfully\n"
     ]
    }
   ],
   "source": [
    "cmd ='''\n",
    "STAR --soloType CB_UMI_Simple \\\n",
    "--readFilesIn  test_R1_001.fastq  test_R2_001.fastq    \\\n",
    "--genomeDir /home/jovyan/new_ref  \\\n",
    "--soloCBwhitelist /mnt/shared/counting_guides/metadata/737K-august-2016.txt   \\\n",
    "--soloCBstart 1 \\\n",
    "--soloCBlen 16 \\\n",
    "--soloUMIstart 17 \\\n",
    "--soloUMIlen 10 \\\n",
    "--soloBarcodeMate 1 \\\n",
    "--soloCBmatchWLtype 1MM_multi_Nbase_pseudocounts \\\n",
    "--soloUMIfiltering MultiGeneUMI_CR \\\n",
    "--soloUMIdedup 1MM_CR \\\n",
    "--outFilterScoreMin 20 \\\n",
    "--outSAMtype BAM SortedByCoordinate \\\n",
    "--outSAMattributes CR UR CY UY CB UB \\\n",
    "--soloBarcodeReadLength 0 \\\n",
    "--clip5pNbases 39 0  \\\n",
    "--outFilterScoreMinOverLread 0  --outFilterMatchNminOverLread 0 \\\n",
    "#--readFilesCommand zcat \\\n",
    "'''\n",
    "\n",
    "!$cmd"
   ]
  },
  {
   "cell_type": "code",
   "execution_count": null,
   "id": "64b06490-0f9d-47d9-8b48-1adaf069e353",
   "metadata": {},
   "outputs": [],
   "source": [
    "--soloType CB_UMI_Simple \n",
    "--soloCBstart 1 --soloCBlen 16 --soloUMIstart 17 --soloUMIlen 10 \n",
    "--soloCBmatchWLtype 1MM_multi_Nbase_pseudocounts\n",
    "--soloUMIfiltering MultiGeneUMI_CR\n",
    "--soloBarcodeMate 1 --clip5pNbases 39 0 --soloUMIdedup 1MM_CR --outFilterScoreMin 30 --outSAMtype BAM SortedByCoordinate --outSAMattributes CR UR CY UY CB UB\n"
   ]
  },
  {
   "cell_type": "code",
   "execution_count": 133,
   "id": "5d3a844d-7492-4f2a-b19b-fcdc3ce58455",
   "metadata": {},
   "outputs": [
    {
     "data": {
      "text/plain": [
       "AnnData object with n_obs × n_vars = 40 × 737280"
      ]
     },
     "execution_count": 133,
     "metadata": {},
     "output_type": "execute_result"
    }
   ],
   "source": [
    "import anndata as ann\n",
    "\n",
    "ann_results = ann.read_mtx('Solo.out/Gene/raw/matrix.mtx')\n",
    "\n",
    "ann_results"
   ]
  },
  {
   "cell_type": "code",
   "execution_count": 134,
   "id": "174e4be7-e226-4b33-ac31-67e2038cb6db",
   "metadata": {},
   "outputs": [
    {
     "data": {
      "text/plain": [
       "matrix([[0., 0., 0., ..., 0., 0., 0.]], dtype=float32)"
      ]
     },
     "execution_count": 134,
     "metadata": {},
     "output_type": "execute_result"
    }
   ],
   "source": [
    "ann_results.X.sum(0)"
   ]
  },
  {
   "cell_type": "code",
   "execution_count": 27,
   "id": "f2e63e5f-228f-4362-b26c-cb7a8ad78116",
   "metadata": {},
   "outputs": [
    {
     "name": "stdout",
     "output_type": "stream",
     "text": [
      "--2024-02-23 19:13:03--  https://github.com/10XGenomics/cellranger/raw/master/lib/python/cellranger/barcodes/737K-august-2016.txt\n",
      "Resolving github.com (github.com)... 140.82.114.4\n",
      "Connecting to github.com (github.com)|140.82.114.4|:443... connected.\n",
      "HTTP request sent, awaiting response... 404 Not Found\n",
      "2024-02-23 19:13:03 ERROR 404: Not Found.\n",
      "\n"
     ]
    }
   ],
   "source": [
    "!wget https://github.com/10XGenomics/cellranger/raw/master/lib/python/cellranger/barcodes/737K-august-2016.txt\n",
    "\n"
   ]
  },
  {
   "cell_type": "code",
   "execution_count": 29,
   "id": "729bdc4d-52dd-425a-a406-899ca8f97e9c",
   "metadata": {},
   "outputs": [
    {
     "name": "stdout",
     "output_type": "stream",
     "text": [
      "737K-august-2016.txt\n",
      "TF_CRISPR_i_a.scRNAseq_screen.igvf_metadata.txt\n",
      "TF_CRISPR_i_a.scRNAseq_screen.seqspec.yaml\n"
     ]
    }
   ],
   "source": [
    "!ls "
   ]
  },
  {
   "cell_type": "code",
   "execution_count": 55,
   "id": "507e198b-1a88-492b-8044-e9a0361fa407",
   "metadata": {
    "collapsed": true,
    "jupyter": {
     "outputs_hidden": true
    }
   },
   "outputs": [
    {
     "name": "stdout",
     "output_type": "stream",
     "text": [
      "\n",
      "Looking for: ['bed2gtf']\n",
      "\n",
      "\u001b[33m\u001b[1mwarning  libmamba\u001b[m Cache file \"/opt/conda/pkgs/cache/ffeee55f.json\" was modified by another program\n",
      "bioconda/linux-64                                           Using cache\n",
      "\u001b[33m\u001b[1mwarning  libmamba\u001b[m Cache file \"/opt/conda/pkgs/cache/2a957770.json\" was modified by another program\n",
      "bioconda/noarch                                             Using cache\n",
      "\u001b[33m\u001b[1mwarning  libmamba\u001b[m Cache file \"/opt/conda/pkgs/cache/497deca9.json\" was modified by another program\n",
      "conda-forge/linux-64                                        Using cache\n",
      "\u001b[33m\u001b[1mwarning  libmamba\u001b[m Cache file \"/opt/conda/pkgs/cache/09cdf8bf.json\" was modified by another program\n",
      "conda-forge/noarch                                          Using cache\n",
      "\n",
      "Pinned packages:\n",
      "  - python 3.11.*\n",
      "  - python 3.11.6\n",
      "\n",
      "\n",
      "Transaction\n",
      "\n",
      "  Prefix: /opt/conda\n",
      "\n",
      "  Updating specs:\n",
      "\n",
      "   - bed2gtf\n",
      "   - ca-certificates\n",
      "   - certifi\n",
      "   - openssl\n",
      "\n",
      "\n",
      "  Package    Version  Build       Channel      Size\n",
      "─────────────────────────────────────────────────────\n",
      "  Install:\n",
      "─────────────────────────────────────────────────────\n",
      "\n",
      "  \u001b[32m+ bed2gtf\u001b[0m    1.9.1  h4ac6f70_0  bioconda      1MB\n",
      "\n",
      "  Summary:\n",
      "\n",
      "  Install: 1 packages\n",
      "\n",
      "  Total download: 1MB\n",
      "\n",
      "─────────────────────────────────────────────────────\n",
      "\n",
      "\n",
      "\u001b[?25l\u001b[2K\u001b[0G[+] 0.0s\n",
      "Downloading      \u001b[90m━━━━━━━━━━━━━━━━━━━━━━━\u001b[0m   0.0 B                            0.0s\n",
      "Extracting       \u001b[90m━━━━━━━━━━━━━━━━━━━━━━━\u001b[0m       0                            0.0s\u001b[2K\u001b[1A\u001b[2K\u001b[1A\u001b[2K\u001b[0G[+] 0.1s\n",
      "Downloading  (1) \u001b[33m━━━━━━━━━━━━━━━━━━━━━━━\u001b[0m   0.0 B bed2gtf                    0.0s\n",
      "Extracting       \u001b[90m━━━━━━━━━━━━━━━━━━━━━━━\u001b[0m       0                            0.0s\u001b[2K\u001b[1A\u001b[2K\u001b[1A\u001b[2K\u001b[0G[+] 0.2s\n",
      "Downloading  (1) \u001b[33m━━━━━━━━━━━━━━━━━━━━━━━\u001b[0m   0.0 B bed2gtf                    0.1s\n",
      "Extracting       \u001b[90m━━━━━━━━━━━━━━━━━━━━━━━\u001b[0m       0                            0.0s\u001b[2K\u001b[1A\u001b[2K\u001b[1A\u001b[2K\u001b[0G[+] 0.3s\n",
      "Downloading  (1) \u001b[33m━━━━━━━━━━━━━━━━━━━━━━━\u001b[0m   0.0 B bed2gtf                    0.2s\n",
      "Extracting       \u001b[90m━━━━━━━━━━━━━━━━━━━━━━━\u001b[0m       0                            0.0s\u001b[2K\u001b[1A\u001b[2K\u001b[1A\u001b[2K\u001b[0Gbed2gtf                                              1.0MB @   2.6MB/s  0.4s\n",
      "[+] 0.4s\n",
      "Downloading      ━━━━━━━━━━━━━━━━━━━━━━━   1.0MB                            0.3s\n",
      "Extracting   (1) \u001b[90m━╸\u001b[0m\u001b[33m━━━━━━━━━━━━━━━╸\u001b[0m\u001b[90m━━━━━\u001b[0m       0 bed2gtf                    0.0s\u001b[2K\u001b[1A\u001b[2K\u001b[1A\u001b[2K\u001b[0G[+] 0.5s\n",
      "Downloading      ━━━━━━━━━━━━━━━━━━━━━━━   1.0MB                            0.3s\n",
      "Extracting   (1) \u001b[90m━━╸\u001b[0m\u001b[33m━━━━━━━━━━━━━━━╸\u001b[0m\u001b[90m━━━━\u001b[0m       0 bed2gtf                    0.1s\u001b[2K\u001b[1A\u001b[2K\u001b[1A\u001b[2K\u001b[0G[+] 0.6s\n",
      "Downloading      ━━━━━━━━━━━━━━━━━━━━━━━   1.0MB                            0.3s\n",
      "Extracting   (1) \u001b[90m━━━╸\u001b[0m\u001b[33m━━━━━━━━━━━━━━━╸\u001b[0m\u001b[90m━━━\u001b[0m       0 bed2gtf                    0.2s\u001b[2K\u001b[1A\u001b[2K\u001b[1A\u001b[2K\u001b[0G[+] 0.7s\n",
      "Downloading      ━━━━━━━━━━━━━━━━━━━━━━━   1.0MB                            0.3s\n",
      "Extracting   (1) \u001b[90m━━━━╸\u001b[0m\u001b[33m━━━━━━━━━━━━━━━╸\u001b[0m\u001b[90m━━\u001b[0m       0 bed2gtf                    0.3s\u001b[2K\u001b[1A\u001b[2K\u001b[1A\u001b[2K\u001b[0G[+] 0.8s\n",
      "Downloading      ━━━━━━━━━━━━━━━━━━━━━━━   1.0MB                            0.3s\n",
      "Extracting   (1) \u001b[90m━━━━━━╸\u001b[0m\u001b[33m━━━━━━━━━━━━━━━━\u001b[0m       0 bed2gtf                    0.4s\u001b[2K\u001b[1A\u001b[2K\u001b[1A\u001b[2K\u001b[0G[+] 0.9s\n",
      "Downloading      ━━━━━━━━━━━━━━━━━━━━━━━   1.0MB                            0.3s\n",
      "Extracting   (1) \u001b[90m━━━━━━━╸\u001b[0m\u001b[33m━━━━━━━━━━━━━━━\u001b[0m       0 bed2gtf                    0.5s\u001b[2K\u001b[1A\u001b[2K\u001b[1A\u001b[2K\u001b[0G[+] 1.0s\n",
      "Downloading      ━━━━━━━━━━━━━━━━━━━━━━━   1.0MB                            0.3s\n",
      "Extracting   (1) \u001b[90m━━━━━━━━╸\u001b[0m\u001b[33m━━━━━━━━━━━━━━\u001b[0m       0 bed2gtf                    0.6s\u001b[2K\u001b[1A\u001b[2K\u001b[1A\u001b[2K\u001b[0G[+] 1.1s\n",
      "Downloading      ━━━━━━━━━━━━━━━━━━━━━━━   1.0MB                            0.3s\n",
      "Extracting   (1) \u001b[90m━━━━━━━━━╸\u001b[0m\u001b[33m━━━━━━━━━━━━━\u001b[0m       0 bed2gtf                    0.7s\u001b[2K\u001b[1A\u001b[2K\u001b[1A\u001b[2K\u001b[0G[+] 1.2s\n",
      "Downloading      ━━━━━━━━━━━━━━━━━━━━━━━   1.0MB                            0.3s\n",
      "Extracting   (1) \u001b[90m━━━━━━━━━━╸\u001b[0m\u001b[33m━━━━━━━━━━━━\u001b[0m       0 bed2gtf                    0.8s\u001b[2K\u001b[1A\u001b[2K\u001b[1A\u001b[2K\u001b[0G[+] 1.3s\n",
      "Downloading      ━━━━━━━━━━━━━━━━━━━━━━━   1.0MB                            0.3s\n",
      "Extracting   (1) \u001b[90m━━━━━━━━━━━╸\u001b[0m\u001b[33m━━━━━━━━━━━\u001b[0m       0 bed2gtf                    0.9s\u001b[2K\u001b[1A\u001b[2K\u001b[1A\u001b[2K\u001b[0G[+] 1.4s\n",
      "Downloading      ━━━━━━━━━━━━━━━━━━━━━━━   1.0MB                            0.3s\n",
      "Extracting   (1) \u001b[90m━━━━━━━━━━━━╸\u001b[0m\u001b[33m━━━━━━━━━━\u001b[0m       0 bed2gtf                    1.0s\u001b[2K\u001b[1A\u001b[2K\u001b[1A\u001b[2K\u001b[0G[+] 1.5s\n",
      "Downloading      ━━━━━━━━━━━━━━━━━━━━━━━   1.0MB                            0.3s\n",
      "Extracting   (1) \u001b[33m━━━━━━━╸\u001b[0m\u001b[90m━━━━━━━━━━━━━━━\u001b[0m       0 bed2gtf                    1.1s\u001b[2K\u001b[1A\u001b[2K\u001b[1A\u001b[2K\u001b[0G[+] 1.6s\n",
      "Downloading      ━━━━━━━━━━━━━━━━━━━━━━━   1.0MB                            0.3s\n",
      "Extracting   (1) \u001b[33m━━━━━━━━╸\u001b[0m\u001b[90m━━━━━━━━━━━━━━\u001b[0m       0 bed2gtf                    1.2s\u001b[2K\u001b[1A\u001b[2K\u001b[1A\u001b[2K\u001b[0G[+] 1.7s\n",
      "Downloading      ━━━━━━━━━━━━━━━━━━━━━━━   1.0MB                            0.3s\n",
      "Extracting   (1) \u001b[33m━━━━━━━━━╸\u001b[0m\u001b[90m━━━━━━━━━━━━━\u001b[0m       0 bed2gtf                    1.3s\u001b[2K\u001b[1A\u001b[2K\u001b[1A\u001b[2K\u001b[0G\u001b[?25h\n",
      "Downloading and Extracting Packages:\n",
      "\n",
      "Preparing transaction: done\n",
      "Verifying transaction: done\n",
      "Executing transaction: done\n"
     ]
    }
   ],
   "source": [
    "#!mamba install bed2gtf -c bioconda --y"
   ]
  },
  {
   "cell_type": "code",
   "execution_count": null,
   "id": "c10ace44-a8f6-4f75-b086-bdb07170693c",
   "metadata": {},
   "outputs": [],
   "source": []
  }
 ],
 "metadata": {
  "kernelspec": {
   "display_name": "Python 3 (ipykernel)",
   "language": "python",
   "name": "python3"
  },
  "language_info": {
   "codemirror_mode": {
    "name": "ipython",
    "version": 3
   },
   "file_extension": ".py",
   "mimetype": "text/x-python",
   "name": "python",
   "nbconvert_exporter": "python",
   "pygments_lexer": "ipython3",
   "version": "3.11.6"
  }
 },
 "nbformat": 4,
 "nbformat_minor": 5
}
